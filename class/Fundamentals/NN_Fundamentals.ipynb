{
  "nbformat": 4,
  "nbformat_minor": 0,
  "metadata": {
    "coursera": {
      "course_slug": "neural-networks-deep-learning",
      "graded_item_id": "wRuwL",
      "launcher_item_id": "NI888"
    },
    "kernelspec": {
      "display_name": "Python 3",
      "language": "python",
      "name": "python3"
    },
    "language_info": {
      "codemirror_mode": {
        "name": "ipython",
        "version": 3
      },
      "file_extension": ".py",
      "mimetype": "text/x-python",
      "name": "python",
      "nbconvert_exporter": "python",
      "pygments_lexer": "ipython3",
      "version": "3.8.5"
    },
    "colab": {
      "name": "NN_Fundamentals.ipynb",
      "provenance": []
    }
  },
  "cells": [
    {
      "cell_type": "markdown",
      "metadata": {
        "id": "peowg9V3FacE"
      },
      "source": [
        "It is highly recommended to use a powerful **GPU**, you can use it for free uploading this notebook to [Google Colab](https://colab.research.google.com/notebooks/intro.ipynb).\n",
        "<table align=\"center\">\n",
        " <td align=\"center\"><a target=\"_blank\" href=\"https://colab.research.google.com/github/ezponda/intro_deep_learning/blob/main/class/Fundamentals/NN_Fundamentals.ipynb\">\n",
        "        <img src=\"https://i.ibb.co/2P3SLwK/colab.png\"  style=\"padding-bottom:5px;\" />Run in Google Colab</a></td>\n",
        "  <td align=\"center\"><a target=\"_blank\" href=\"https://github.com/ezponda/intro_deep_learning/blob/main/class/Fundamentals/NN_Fundamentals.ipynb\">\n",
        "        <img src=\"https://i.ibb.co/xfJbPmL/github.png\"  height=\"70px\" style=\"padding-bottom:5px;\"  />View Source on GitHub</a></td>\n",
        "</table>"
      ]
    },
    {
      "cell_type": "code",
      "metadata": {
        "id": "eS1LRbJzFacK"
      },
      "source": [
        "import tensorflow as tf  #USAMOS TENSOR FLOW , KERAS QUE ESTA DENTRO DE TENSOR Y SKLEARN\n",
        "from tensorflow import keras\n",
        "from tensorflow.keras import layers\n",
        "\n",
        "import numpy as np\n",
        "import sklearn\n",
        "import sklearn.datasets\n",
        "import sklearn.linear_model\n",
        "import matplotlib.pyplot as plt\n",
        "%matplotlib inline"
      ],
      "execution_count": 1,
      "outputs": []
    },
    {
      "cell_type": "code",
      "metadata": {
        "id": "C6L4NoV-FacM"
      },
      "source": [
        "\n",
        "# SON FUNCIONES QUE NOS VAN A SERVIR PERO QUE NO HACE FAKTA MIRARLAS\n",
        "\n",
        "def plot_decision_boundary(model, X, y):\n",
        "    # Set min and max values and give it some padding\n",
        "    x_min, x_max = X[:, 0].min() - 1, X[:, 0].max() + 1\n",
        "    y_min, y_max = X[:,1].min() - 1, X[:,1].max() + 1\n",
        "    h = 0.01\n",
        "    # Generate a grid of points with distance h between them\n",
        "    xx, yy = np.meshgrid(np.arange(x_min, x_max, h), np.arange(y_min, y_max, h))\n",
        "    # Predict the function value for the whole grid\n",
        "    Z = model(np.c_[xx.ravel(), yy.ravel()])\n",
        "    Z = Z.reshape(xx.shape)\n",
        "    # Plot the contour and training examples\n",
        "    plt.contourf(xx, yy, Z, cmap=plt.cm.Spectral)\n",
        "    plt.ylabel('x2')\n",
        "    plt.xlabel('x1')\n",
        "    plt.scatter(X[:,0], X[:,1], c=y.ravel(), cmap=plt.cm.Spectral)\n",
        "    \n",
        "def load_planar_dataset(m, sigma=0.2):\n",
        "    N = int(m/2) # number of points per class\n",
        "    D = 2 # dimensionality\n",
        "    X = np.zeros((m,D)) # data matrix where each row is a single example\n",
        "    Y = np.zeros((m,1), dtype='uint8') # labels vector (0 for red, 1 for blue)\n",
        "    a = 4 # maximum ray of the flower\n",
        "\n",
        "    for j in range(2):\n",
        "        ix = range(N*j,N*(j+1))\n",
        "        t = np.linspace(j*3.12,(j+1)*3.12,N) + np.random.randn(N)*sigma # theta\n",
        "        r = a*np.sin(4*t) + np.random.randn(N)*sigma # radius\n",
        "        X[ix] = np.c_[r*np.sin(t), r*np.cos(t)]\n",
        "        Y[ix] = j\n",
        "        \n",
        "    ## premuting ouput\n",
        "    p = np.random.permutation(m)\n",
        "    X = X[p,:]\n",
        "    Y = Y[p,:]\n",
        "\n",
        "    return X, Y.ravel()\n",
        "\n",
        "def draw_neural_net(left, right, bottom, top, layer_sizes):\n",
        "    '''\n",
        "    From https://gist.github.com/craffel/2d727968c3aaebd10359#file-draw_neural_net-py\n",
        "    Draw a neural network cartoon using matplotilb.\n",
        "    \n",
        "    :usage:\n",
        "        >>> fig = plt.figure(figsize=(12, 12))\n",
        "        >>> draw_neural_net(fig.gca(), .1, .9, .1, .9, [4, 7, 2])\n",
        "    \n",
        "    :parameters:\n",
        "        - ax : matplotlib.axes.AxesSubplot\n",
        "            The axes on which to plot the cartoon (get e.g. by plt.gca())\n",
        "        - left : float\n",
        "            The center of the leftmost node(s) will be placed here\n",
        "        - right : float\n",
        "            The center of the rightmost node(s) will be placed here\n",
        "        - bottom : float\n",
        "            The center of the bottommost node(s) will be placed here\n",
        "        - top : float\n",
        "            The center of the topmost node(s) will be placed here\n",
        "        - layer_sizes : list of int\n",
        "            List of layer sizes, including input and output dimensionality\n",
        "    '''\n",
        "    fig = plt.figure(figsize=(3, 3))\n",
        "    ax = fig.gca()\n",
        "    ax.axis('off')\n",
        "\n",
        "    n_layers = len(layer_sizes)\n",
        "    v_spacing = (top - bottom)/float(max(layer_sizes))\n",
        "    h_spacing = (right - left)/float(len(layer_sizes) - 1)\n",
        "    # Nodes\n",
        "    for n, layer_size in enumerate(layer_sizes):\n",
        "        layer_top = v_spacing*(layer_size - 1)/2. + (top + bottom)/2.\n",
        "        for m in range(layer_size):\n",
        "            circle = plt.Circle((n*h_spacing + left, layer_top - m*v_spacing), v_spacing/4.,\n",
        "                                color='w', ec='k', zorder=4)\n",
        "            ax.add_artist(circle)\n",
        "    # Edges\n",
        "    for n, (layer_size_a, layer_size_b) in enumerate(zip(layer_sizes[:-1], layer_sizes[1:])):\n",
        "        layer_top_a = v_spacing*(layer_size_a - 1)/2. + (top + bottom)/2.\n",
        "        layer_top_b = v_spacing*(layer_size_b - 1)/2. + (top + bottom)/2.\n",
        "        for m in range(layer_size_a):\n",
        "            for o in range(layer_size_b):\n",
        "                line = plt.Line2D([n*h_spacing + left, (n + 1)*h_spacing + left],\n",
        "                                  [layer_top_a - m*v_spacing, layer_top_b - o*v_spacing], c='k')\n",
        "                ax.add_artist(line)"
      ],
      "execution_count": 2,
      "outputs": []
    },
    {
      "cell_type": "markdown",
      "metadata": {
        "id": "aGv2auPIFacO"
      },
      "source": [
        "## Dataset \n",
        "\n",
        "We have a binary classification dataset. The target `y` has two possible values, {0,1} and the input vector `x` has two dimensions."
      ]
    },
    {
      "cell_type": "code",
      "metadata": {
        "id": "mu1CwtHLFacP"
      },
      "source": [
        "N = 5000\n",
        "X, y = load_planar_dataset(N, 0.2)"
      ],
      "execution_count": 3,
      "outputs": []
    },
    {
      "cell_type": "markdown",
      "metadata": {
        "id": "m_Een--tFacQ"
      },
      "source": [
        "Visualize the dataset using matplotlib. The data looks like a \"flower\" with some red (label y=0) and some blue (y=1) points. Your goal is to build a model to fit this data. "
      ]
    },
    {
      "cell_type": "code",
      "metadata": {
        "id": "L0d4XYr7FacQ",
        "outputId": "3ac1a1b3-685c-4fa8-ff59-c2bd0f6c9561",
        "colab": {
          "base_uri": "https://localhost:8080/",
          "height": 265
        }
      },
      "source": [
        "# Visualize the data:\n",
        "plt.scatter(X[:,0], X[:,1], c=y.ravel(), s=40, cmap=plt.cm.Spectral);\n",
        "\n",
        "#ES UN DATASET QUE SE LLAMA DE FLORES, ES COMLEJO, TENEMOS LOS DATOS EN UN PLANO Y TENEMOS DOS CLASES (AZUL Y ROJA) POR LO QUE VA A SER UN PROBLEMA DE CLASIFICACION BINARIA\n",
        "\n",
        "#UNA REGRESION LOGISTICA NUNCA VA A APRENDER COMO SEPARAR NUESTRA DOS CLASES TENDREMOS QUE USAR UN MODELO COMPLEJO\n"
      ],
      "execution_count": 4,
      "outputs": [
        {
          "output_type": "display_data",
          "data": {
            "image/png": "[encoded data removed]",
            "text/plain": [
              "<Figure size 432x288 with 1 Axes>"
            ]
          },
          "metadata": {
            "needs_background": "light"
          }
        }
      ]
    },
    {
      "cell_type": "code",
      "metadata": {
        "id": "NRyps2iRFacR"
      },
      "source": [
        "#SEPARAMOS EN TRAIN Y TEST\n",
        "\n",
        "# train test split\n",
        "from sklearn.model_selection import train_test_split\n",
        "\n",
        "(X_train, X_test, y_train, y_test) = train_test_split(\n",
        "    X,\n",
        "    y,\n",
        "    test_size=0.2,\n",
        ")\n",
        "\n",
        "\n",
        "#TENEMOS 2 VARIABLES INDEPENDIENTES (creo) (X) Y LUEGO Y CON DOS CLASES (0 Y 1)"
      ],
      "execution_count": 5,
      "outputs": []
    },
    {
      "cell_type": "code",
      "metadata": {
        "id": "pW2fBz0WFacS",
        "outputId": "64b23c0c-8ef0-41ad-e5ca-d33b1538fb71",
        "colab": {
          "base_uri": "https://localhost:8080/"
        }
      },
      "source": [
        "print('X shape:{0}, y shape:{1}'.format(X.shape, y.shape))\n",
        "print('X_train shape:{0}, y_train shape:{1}'.format(X_train.shape,\n",
        "                                                    y_train.shape))\n",
        "print('X_test shape:{0}, y_test shape:{1}'.format(X_test.shape, y_test.shape))"
      ],
      "execution_count": 6,
      "outputs": [
        {
          "output_type": "stream",
          "name": "stdout",
          "text": [
            "X shape:(5000, 2), y shape:(5000,)\n",
            "X_train shape:(4000, 2), y_train shape:(4000,)\n",
            "X_test shape:(1000, 2), y_test shape:(1000,)\n"
          ]
        }
      ]
    },
    {
      "cell_type": "code",
      "metadata": {
        "id": "RbY84SyfFacT",
        "outputId": "8f5c139d-4b4c-413c-8acb-99e22c96cded",
        "colab": {
          "base_uri": "https://localhost:8080/"
        }
      },
      "source": [
        "\n",
        "#EN EL CASO DE LA X SON LAS COORDENADAS\n",
        "## X first example\n",
        "X[0,:]"
      ],
      "execution_count": 7,
      "outputs": [
        {
          "output_type": "execute_result",
          "data": {
            "text/plain": [
              "array([3.3747929 , 1.13883696])"
            ]
          },
          "metadata": {},
          "execution_count": 7
        }
      ]
    },
    {
      "cell_type": "code",
      "metadata": {
        "id": "ueFLYwSrFacT",
        "outputId": "6bd240d3-513d-4350-aeee-0196296e9d66",
        "colab": {
          "base_uri": "https://localhost:8080/"
        }
      },
      "source": [
        "# EN EL CASO DE LA Y SON 0 Y 1\n",
        "\n",
        "## Y firsts examples\n",
        "y[:8]"
      ],
      "execution_count": 8,
      "outputs": [
        {
          "output_type": "execute_result",
          "data": {
            "text/plain": [
              "array([1, 1, 0, 0, 1, 0, 1, 1], dtype=uint8)"
            ]
          },
          "metadata": {},
          "execution_count": 8
        }
      ]
    },
    {
      "cell_type": "markdown",
      "metadata": {
        "id": "oQ4ZLy6TFacU"
      },
      "source": [
        "## First NN in Keras\n",
        "\n",
        "### Logistic regression\n",
        "\n",
        "Fully connected layers are defined using the [Dense](https://www.tensorflow.org/api_docs/python/tf/keras/layers/Dense) class. We can specify the number of neurons as the first argument, and specify the activation function using the activation argument.\n",
        "\n",
        "```python\n",
        "\n",
        "#NUESTRAS CAPAS LA VAMOS A DEFINIR CON LA CLASE DENSE\n",
        "tf.keras.layers.Dense(\n",
        "    units, activation=None\n",
        ")\n",
        "\n",
        "\n",
        "#VAMOS A TENER DOS PARAMETROS\n",
        "\n",
        "#UNITS: NUMERO DE NEURONA DE NUESTRA CAPA\n",
        "\n",
        "#ACTIVACION: FUNCION DE ACTIVACION \n",
        "```\n",
        "\n",
        "- **units**: Number of neurons in the layer.\n",
        "- **activation**: Activation function to use, default function is `linear`, you can also use `sigmoid` for sigmoid activation or [other alternatives](https://www.tensorflow.org/api_docs/python/tf/keras/activations) \n",
        "\n",
        "For defining the input layer you can use `keras.Input(shape=(input_dimension,))` or define your input dimension in the first hidden layer.\n",
        "\n",
        "```python\n",
        "\n",
        "# EN LA PRIMERA CAPA SOLO TENEMOS QUE PONER LA DIMENSION DE LOS DATOS DE ENTRADA \n",
        "layers.Dense(4, activation=\"sigmoid\", input_shape=(input_dimension,))\n",
        "\n",
        "```\n",
        "\n",
        "Build a network without hidden layer"
      ]
    },
    {
      "cell_type": "code",
      "metadata": {
        "id": "PGgEIh6aFacU",
        "outputId": "d1cbd19d-1f9b-4c5e-f305-fc9be1e84088",
        "colab": {
          "base_uri": "https://localhost:8080/",
          "height": 194
        }
      },
      "source": [
        "draw_neural_net(.1, .9, .1, .9, [2, 1])"
      ],
      "execution_count": 9,
      "outputs": [
        {
          "output_type": "display_data",
          "data": {
            "image/png": "[encoded data removed]",
            "text/plain": [
              "<Figure size 216x216 with 1 Axes>"
            ]
          },
          "metadata": {
            "needs_background": "light"
          }
        }
      ]
    },
    {
      "cell_type": "code",
      "metadata": {
        "id": "iikchEEGFacV"
      },
      "source": [
        "#PRIMERO SE DECLARA EL MODELO VACIO Y LUEGO SE LE VAN AÑADIENDO LAS CAPAS CON MODEL.ADD\n",
        "\n",
        "# EN ESTE CASO SOLO TENEMOS UNA CAPA DE SALIDA CON UNA NEURONA\n",
        "\n",
        "model = keras.Sequential()\n",
        "# The dimension of the input is 2 (planar data)\n",
        "# we have only one output layer with 1 neuron\n",
        "model.add(keras.layers.Dense(1, input_shape=(2, ), activation='sigmoid'))\n",
        "\n",
        "\n",
        "# POR LO TANTO PONEMOS 1 NEURONA , INPUT SHAPE PORQUE ES LA PRIMERA CAPA (SERA 2 PORQUE SON DOS LAS ENTRADAS) Y LA FUNCION DE ACTIVACION SERA SIGMOIDE (CLASIFICACION BINARIA)"
      ],
      "execution_count": 10,
      "outputs": []
    },
    {
      "cell_type": "code",
      "metadata": {
        "id": "H2J6rdiCFacW",
        "outputId": "eb7dc31f-079e-47ad-ba4c-140b0cd4670e",
        "colab": {
          "base_uri": "https://localhost:8080/"
        }
      },
      "source": [
        "#VEMOS LOS PARAMETROS QUE TIENE NUESTRO MODELO \n",
        "\n",
        "# SON TRES, EL PESO DE UNA ENTRADA, UNO, EL DE LA OTRA, DOS, Y LA B ,TRES.\n",
        "\n",
        "model.summary()"
      ],
      "execution_count": 11,
      "outputs": [
        {
          "output_type": "stream",
          "name": "stdout",
          "text": [
            "Model: \"sequential\"\n",
            "_________________________________________________________________\n",
            "Layer (type)                 Output Shape              Param #   \n",
            "=================================================================\n",
            "dense (Dense)                (None, 1)                 3         \n",
            "=================================================================\n",
            "Total params: 3\n",
            "Trainable params: 3\n",
            "Non-trainable params: 0\n",
            "_________________________________________________________________\n"
          ]
        }
      ]
    },
    {
      "cell_type": "code",
      "metadata": {
        "id": "hkMUmmSdFacW",
        "outputId": "6945393f-854c-4aa3-a497-403401393477",
        "colab": {
          "base_uri": "https://localhost:8080/",
          "height": 201
        }
      },
      "source": [
        "#VEMOS LA FUNCION DIBUJADA\n",
        "\n",
        "from tensorflow.keras.utils import plot_model\n",
        "plot_model(model, show_shapes=True)"
      ],
      "execution_count": 12,
      "outputs": [
        {
          "output_type": "execute_result",
          "data": {
            "image/png": "[encoded data removed]",
            "text/plain": [
              "<IPython.core.display.Image object>"
            ]
          },
          "metadata": {},
          "execution_count": 12
        }
      ]
    },
    {
      "cell_type": "markdown",
      "metadata": {
        "id": "0XnrWLo0FacW"
      },
      "source": [
        "#### Compile\n",
        "Now we need to specify the loss function, the metrics and the optimizer. It is done using compile function in Keras."
      ]
    },
    {
      "cell_type": "code",
      "metadata": {
        "id": "6aoBdD6hFacW"
      },
      "source": [
        "#UNA VEZ ESPECIFICADO EL MODELO SE TIENE QUE COMPILAR, LA COMPILACION ES QUE OPTIMIZACION QUIERES USAR , LA FUNCION DE PERDIDA Y LAS METRICAS PARA VALORAR EL MODELO\n",
        "\n",
        "model.compile(\n",
        "    optimizer='adam',\n",
        "    loss='binary_crossentropy',\n",
        "    metrics=['accuracy']\n",
        ")"
      ],
      "execution_count": 14,
      "outputs": []
    },
    {
      "cell_type": "markdown",
      "metadata": {
        "id": "5RDL3jyEFacX"
      },
      "source": [
        "#### Training model\n",
        "This is similar to a sklearn model."
      ]
    },
    {
      "cell_type": "code",
      "metadata": {
        "id": "bTgC4vFpFacX",
        "outputId": "3d6442d5-1474-448b-b4a7-d13fb4a5114e",
        "colab": {
          "base_uri": "https://localhost:8080/"
        }
      },
      "source": [
        "#EL TRAININNNGGG\n",
        "\n",
        "model.fit(X_train, y_train, epochs=10,\n",
        "          validation_split=0.2, batch_size=32)\n",
        "\n",
        "\n",
        "#NOS VA DICIENDO LO QUE ESRA HACIEDNO  , NOS DICE EL ACCURACY DEL TRAIN (NO LO QUEREMOS) Y EL DE VALIDATION (ESTE SII)\n",
        "\n",
        "#ES UN RESULTADO BASTANTE POBRE PARA QUE MENTIR 0.67 , ES UNA REGRESION LOGISTICA , SOLO ES UNA RECTA......... "
      ],
      "execution_count": 15,
      "outputs": [
        {
          "output_type": "stream",
          "name": "stdout",
          "text": [
            "Epoch 1/10\n",
            "100/100 [==============================] - 1s 3ms/step - loss: 1.1101 - accuracy: 0.5806 - val_loss: 1.0676 - val_accuracy: 0.5650\n",
            "Epoch 2/10\n",
            "100/100 [==============================] - 0s 1ms/step - loss: 1.0493 - accuracy: 0.5869 - val_loss: 1.0097 - val_accuracy: 0.5675\n",
            "Epoch 3/10\n",
            "100/100 [==============================] - 0s 1ms/step - loss: 0.9928 - accuracy: 0.5959 - val_loss: 0.9564 - val_accuracy: 0.5788\n",
            "Epoch 4/10\n",
            "100/100 [==============================] - 0s 2ms/step - loss: 0.9400 - accuracy: 0.6034 - val_loss: 0.9067 - val_accuracy: 0.5863\n",
            "Epoch 5/10\n",
            "100/100 [==============================] - 0s 1ms/step - loss: 0.8915 - accuracy: 0.6100 - val_loss: 0.8609 - val_accuracy: 0.5962\n",
            "Epoch 6/10\n",
            "100/100 [==============================] - 0s 1ms/step - loss: 0.8476 - accuracy: 0.6172 - val_loss: 0.8199 - val_accuracy: 0.6087\n",
            "Epoch 7/10\n",
            "100/100 [==============================] - 0s 2ms/step - loss: 0.8087 - accuracy: 0.6288 - val_loss: 0.7846 - val_accuracy: 0.6250\n",
            "Epoch 8/10\n",
            "100/100 [==============================] - 0s 1ms/step - loss: 0.7754 - accuracy: 0.6400 - val_loss: 0.7544 - val_accuracy: 0.6438\n",
            "Epoch 9/10\n",
            "100/100 [==============================] - 0s 1ms/step - loss: 0.7473 - accuracy: 0.6612 - val_loss: 0.7288 - val_accuracy: 0.6737\n",
            "Epoch 10/10\n",
            "100/100 [==============================] - 0s 1ms/step - loss: 0.7244 - accuracy: 0.6731 - val_loss: 0.7088 - val_accuracy: 0.6787\n"
          ]
        },
        {
          "output_type": "execute_result",
          "data": {
            "text/plain": [
              "<keras.callbacks.History at 0x7f1da72eddd0>"
            ]
          },
          "metadata": {},
          "execution_count": 15
        }
      ]
    },
    {
      "cell_type": "markdown",
      "metadata": {
        "id": "o7gwB9I9FacX"
      },
      "source": [
        "#### Making predictions"
      ]
    },
    {
      "cell_type": "code",
      "metadata": {
        "id": "istD5CxNFacY",
        "outputId": "4b64622b-2bf1-4229-9c99-bb114b461659",
        "colab": {
          "base_uri": "https://localhost:8080/"
        }
      },
      "source": [
        "results = model.evaluate(X_test, y_test, verbose=0)\n",
        "print('Test Loss: {}'.format(results[0]))\n",
        "print('Test Accuracy: {}'.format(results[1]))\n",
        "\n",
        "#NI LLEGA EL HIJO PUTA A 0.7 PERO BUENO ES UNA REGRESION LOGISTICA..."
      ],
      "execution_count": 16,
      "outputs": [
        {
          "output_type": "stream",
          "name": "stdout",
          "text": [
            "Test Loss: 0.6795349717140198\n",
            "Test Accuracy: 0.699999988079071\n"
          ]
        }
      ]
    },
    {
      "cell_type": "code",
      "metadata": {
        "id": "Z5013JJSFacY",
        "outputId": "e0203fed-1f4f-437a-e9ca-e07f0d52402d",
        "colab": {
          "base_uri": "https://localhost:8080/"
        }
      },
      "source": [
        "y_pred = model.predict(X_test)\n",
        "y_pred[:3], y_test[:3]"
      ],
      "execution_count": 17,
      "outputs": [
        {
          "output_type": "execute_result",
          "data": {
            "text/plain": [
              "(array([[0.8089329 ],\n",
              "        [0.59683865],\n",
              "        [0.22263047]], dtype=float32), array([1, 1, 0], dtype=uint8))"
            ]
          },
          "metadata": {},
          "execution_count": 17
        }
      ]
    },
    {
      "cell_type": "code",
      "metadata": {
        "id": "OsNJxA1yFacY",
        "outputId": "9dc5d9ea-5126-4e97-d782-01b5963d799b",
        "colab": {
          "base_uri": "https://localhost:8080/",
          "height": 295
        }
      },
      "source": [
        "#AL TENER SOLO UNA CAPA SOLO PUEDE APRENDER UNA RECTA, NECESITAMOS UN MODELO ALGO MAS COMPLEJO , COMO HACERLO ? AÑÁDIENDO UNA CAPA OCULTA\n",
        "\n",
        "\n",
        "plot_decision_boundary(lambda x: (\n",
        "    model.predict(x) > 0.5).astype(\"int32\"), X_test, y_test)\n",
        "plt.title(\"Basic NN\");"
      ],
      "execution_count": 18,
      "outputs": [
        {
          "output_type": "display_data",
          "data": {
            "image/png": "[encoded data removed]",
            "text/plain": [
              "<Figure size 432x288 with 1 Axes>"
            ]
          },
          "metadata": {
            "needs_background": "light"
          }
        }
      ]
    },
    {
      "cell_type": "markdown",
      "metadata": {
        "id": "D_zwhK4SFacZ"
      },
      "source": [
        "### One hidden layer NN\n",
        "\n",
        "- One **input with 2 features (input_shape)**\n",
        "- **One hidden dense layer**,  with **3 neurons** and implemented with  **sigmoid activating function**\n",
        "- **One Output** (sigmoid output activation function)\n",
        "\n",
        "We can create layers incrementally with the method `add()`:"
      ]
    },
    {
      "cell_type": "code",
      "metadata": {
        "id": "c1tyWmp-FacZ",
        "outputId": "3a4e59ce-b0ab-48b7-a11d-d88c6245f80e",
        "colab": {
          "base_uri": "https://localhost:8080/",
          "height": 194
        }
      },
      "source": [
        "draw_neural_net(.1, .9, .1, .9, [2, 3, 1])"
      ],
      "execution_count": 19,
      "outputs": [
        {
          "output_type": "display_data",
          "data": {
            "image/png": "[encoded data removed]",
            "text/plain": [
              "<Figure size 216x216 with 1 Axes>"
            ]
          },
          "metadata": {
            "needs_background": "light"
          }
        }
      ]
    },
    {
      "cell_type": "code",
      "metadata": {
        "id": "jFAnz8GHFacZ",
        "outputId": "b0b59fd5-b536-46a3-e5c5-b9c5dcc495d0",
        "colab": {
          "base_uri": "https://localhost:8080/"
        }
      },
      "source": [
        "#LO DISEÑAMOS COMO CUALQUIER MODELO, LO DECLARAMOS MODELO VACIO Y VAMOS AÑADIENDO LAS CAPAS\n",
        "\n",
        "\n",
        "model = keras.Sequential()\n",
        "\n",
        "## hidden layer with 3 neurons and sigmoid activation\n",
        "## The first layer need to have the input_shape\n",
        "\n",
        "# LA PRIMERA CAPA ES UNA CAPA DENSA DE TRES NEURONAS, COMO ES LA PRIMERAA CAPA TENERMOS QUE PONER LA DIMENSION DE LOS DATOS DE ENTRADA Y USAMOS LA FUNCION DE ACTIVACION SIGMOID\n",
        "\n",
        "model.add(layers.Dense(3, input_shape=(2,), activation='sigmoid'))\n",
        "\n",
        "# output layer\n",
        "\n",
        "\n",
        "#LA ULTIMA CAPA 1 NEURONA CON ACTIVACION SIGMOID\n",
        "model.add(layers.Dense(1, activation='sigmoid'))\n",
        "\n",
        "## model summary\n",
        "\n",
        "\n",
        "#TENDREMOS 9 PESOS ( 3 POR 2 MAS TRES VIAS) Y EL ORTRO TRES POR 1 MAS UNA VIA (4)     ------>  CAPITULO 4 MIN 6:26\n",
        "\n",
        "# 13 EN TOTAL \n",
        " model.summary()"
      ],
      "execution_count": 20,
      "outputs": [
        {
          "output_type": "stream",
          "name": "stdout",
          "text": [
            "Model: \"sequential_1\"\n",
            "_________________________________________________________________\n",
            "Layer (type)                 Output Shape              Param #   \n",
            "=================================================================\n",
            "dense_1 (Dense)              (None, 3)                 9         \n",
            "_________________________________________________________________\n",
            "dense_2 (Dense)              (None, 1)                 4         \n",
            "=================================================================\n",
            "Total params: 13\n",
            "Trainable params: 13\n",
            "Non-trainable params: 0\n",
            "_________________________________________________________________\n"
          ]
        }
      ]
    },
    {
      "cell_type": "markdown",
      "metadata": {
        "id": "9gMSnA8nFacZ"
      },
      "source": [
        "You can also define the model with a list of layers\n",
        "\n",
        "\n",
        "SE PUEDE METER TODO EN UNO COMO UNA LISTA\n",
        "```python\n",
        "model = keras.Sequential([\n",
        "    keras.Input(shape=(2, )),\n",
        "    layers.Dense(3, activation='sigmoid', name='layer1'),\n",
        "    layers.Dense(1, activation='sigmoid', name='layer3')\n",
        "])\n",
        "````"
      ]
    },
    {
      "cell_type": "code",
      "metadata": {
        "id": "Mjs4H7SGFaca",
        "outputId": "1e03fd12-ce24-49af-c817-702e4367f3b5",
        "colab": {
          "base_uri": "https://localhost:8080/",
          "height": 312
        }
      },
      "source": [
        "plot_model(model, show_shapes=True)"
      ],
      "execution_count": 21,
      "outputs": [
        {
          "output_type": "execute_result",
          "data": {
            "image/png": "[encoded data removed]",
            "text/plain": [
              "<IPython.core.display.Image object>"
            ]
          },
          "metadata": {},
          "execution_count": 21
        }
      ]
    },
    {
      "cell_type": "code",
      "metadata": {
        "id": "purl6IqWFaca",
        "outputId": "d6eadb59-e65e-4cac-e615-76dbb03a42c9",
        "colab": {
          "base_uri": "https://localhost:8080/"
        }
      },
      "source": [
        "## compiling and training\n",
        "model.compile(\n",
        "    optimizer='adam',\n",
        "    loss='binary_crossentropy',\n",
        "    metrics=['accuracy']\n",
        ")\n",
        "model.fit(X_train, y_train, epochs=25, validation_split=0.2, batch_size=32)"
      ],
      "execution_count": 22,
      "outputs": [
        {
          "output_type": "stream",
          "name": "stdout",
          "text": [
            "Epoch 1/25\n",
            "100/100 [==============================] - 1s 3ms/step - loss: 0.7253 - accuracy: 0.5094 - val_loss: 0.7262 - val_accuracy: 0.4775\n",
            "Epoch 2/25\n",
            "100/100 [==============================] - 0s 2ms/step - loss: 0.6980 - accuracy: 0.5394 - val_loss: 0.7018 - val_accuracy: 0.5650\n",
            "Epoch 3/25\n",
            "100/100 [==============================] - 0s 2ms/step - loss: 0.6822 - accuracy: 0.5641 - val_loss: 0.6867 - val_accuracy: 0.5425\n",
            "Epoch 4/25\n",
            "100/100 [==============================] - 0s 2ms/step - loss: 0.6731 - accuracy: 0.5528 - val_loss: 0.6772 - val_accuracy: 0.5462\n",
            "Epoch 5/25\n",
            "100/100 [==============================] - 0s 2ms/step - loss: 0.6672 - accuracy: 0.5631 - val_loss: 0.6706 - val_accuracy: 0.5550\n",
            "Epoch 6/25\n",
            "100/100 [==============================] - 0s 2ms/step - loss: 0.6625 - accuracy: 0.5756 - val_loss: 0.6652 - val_accuracy: 0.5763\n",
            "Epoch 7/25\n",
            "100/100 [==============================] - 0s 2ms/step - loss: 0.6581 - accuracy: 0.5953 - val_loss: 0.6603 - val_accuracy: 0.5850\n",
            "Epoch 8/25\n",
            "100/100 [==============================] - 0s 1ms/step - loss: 0.6538 - accuracy: 0.5831 - val_loss: 0.6554 - val_accuracy: 0.5850\n",
            "Epoch 9/25\n",
            "100/100 [==============================] - 0s 2ms/step - loss: 0.6493 - accuracy: 0.5844 - val_loss: 0.6508 - val_accuracy: 0.5788\n",
            "Epoch 10/25\n",
            "100/100 [==============================] - 0s 2ms/step - loss: 0.6449 - accuracy: 0.5828 - val_loss: 0.6461 - val_accuracy: 0.5813\n",
            "Epoch 11/25\n",
            "100/100 [==============================] - 0s 2ms/step - loss: 0.6406 - accuracy: 0.5788 - val_loss: 0.6416 - val_accuracy: 0.5700\n",
            "Epoch 12/25\n",
            "100/100 [==============================] - 0s 1ms/step - loss: 0.6362 - accuracy: 0.6031 - val_loss: 0.6374 - val_accuracy: 0.5975\n",
            "Epoch 13/25\n",
            "100/100 [==============================] - 0s 1ms/step - loss: 0.6321 - accuracy: 0.6309 - val_loss: 0.6331 - val_accuracy: 0.6175\n",
            "Epoch 14/25\n",
            "100/100 [==============================] - 0s 2ms/step - loss: 0.6280 - accuracy: 0.6319 - val_loss: 0.6292 - val_accuracy: 0.6275\n",
            "Epoch 15/25\n",
            "100/100 [==============================] - 0s 1ms/step - loss: 0.6241 - accuracy: 0.6403 - val_loss: 0.6251 - val_accuracy: 0.6263\n",
            "Epoch 16/25\n",
            "100/100 [==============================] - 0s 2ms/step - loss: 0.6204 - accuracy: 0.6428 - val_loss: 0.6216 - val_accuracy: 0.6275\n",
            "Epoch 17/25\n",
            "100/100 [==============================] - 0s 2ms/step - loss: 0.6169 - accuracy: 0.6425 - val_loss: 0.6179 - val_accuracy: 0.6313\n",
            "Epoch 18/25\n",
            "100/100 [==============================] - 0s 1ms/step - loss: 0.6135 - accuracy: 0.6481 - val_loss: 0.6147 - val_accuracy: 0.6313\n",
            "Epoch 19/25\n",
            "100/100 [==============================] - 0s 2ms/step - loss: 0.6102 - accuracy: 0.6450 - val_loss: 0.6112 - val_accuracy: 0.6325\n",
            "Epoch 20/25\n",
            "100/100 [==============================] - 0s 2ms/step - loss: 0.6071 - accuracy: 0.6459 - val_loss: 0.6081 - val_accuracy: 0.6325\n",
            "Epoch 21/25\n",
            "100/100 [==============================] - 0s 2ms/step - loss: 0.6041 - accuracy: 0.6463 - val_loss: 0.6050 - val_accuracy: 0.6338\n",
            "Epoch 22/25\n",
            "100/100 [==============================] - 0s 1ms/step - loss: 0.6012 - accuracy: 0.6466 - val_loss: 0.6022 - val_accuracy: 0.6363\n",
            "Epoch 23/25\n",
            "100/100 [==============================] - 0s 1ms/step - loss: 0.5985 - accuracy: 0.6475 - val_loss: 0.5994 - val_accuracy: 0.6375\n",
            "Epoch 24/25\n",
            "100/100 [==============================] - 0s 2ms/step - loss: 0.5957 - accuracy: 0.6466 - val_loss: 0.5963 - val_accuracy: 0.6375\n",
            "Epoch 25/25\n",
            "100/100 [==============================] - 0s 1ms/step - loss: 0.5928 - accuracy: 0.6484 - val_loss: 0.5936 - val_accuracy: 0.6388\n"
          ]
        },
        {
          "output_type": "execute_result",
          "data": {
            "text/plain": [
              "<keras.callbacks.History at 0x7f1daae12850>"
            ]
          },
          "metadata": {},
          "execution_count": 22
        }
      ]
    },
    {
      "cell_type": "code",
      "metadata": {
        "id": "_Y5dbeR3Faca",
        "outputId": "7aaa703b-223b-4362-d950-5c6f40f0b9b4",
        "colab": {
          "base_uri": "https://localhost:8080/"
        }
      },
      "source": [
        "# ES ALGO MEJOR QUE EL ANTERIOR PERO SIGUE AHI AHI SIGUE SIENDO MUY POQUITO \n",
        "\n",
        "#ES UNA FUNCION MAS COMPLEJA YA\n",
        "\n",
        "results = model.evaluate(X_test, y_test, verbose=0)\n",
        "print('Test Loss: {}'.format(results[0]))\n",
        "print('Test Accuracy: {}'.format(results[1]))"
      ],
      "execution_count": 23,
      "outputs": [
        {
          "output_type": "stream",
          "name": "stdout",
          "text": [
            "Test Loss: 0.5869544744491577\n",
            "Test Accuracy: 0.6420000195503235\n"
          ]
        }
      ]
    },
    {
      "cell_type": "code",
      "metadata": {
        "id": "A-OsgmYVFaca",
        "outputId": "ca13265d-1a3f-47e4-bc5a-b972e09f059d",
        "colab": {
          "base_uri": "https://localhost:8080/",
          "height": 295
        }
      },
      "source": [
        "# HA APRENDIDO UNA LIGERA CURVA\n",
        "\n",
        "plot_decision_boundary(lambda x: (\n",
        "    model.predict(x) > 0.5).astype(\"int32\"), X_test, y_test)\n",
        "plt.title(\"1 Hidden layer NN\");"
      ],
      "execution_count": 24,
      "outputs": [
        {
          "output_type": "display_data",
          "data": {
            "image/png": "[encoded data removed]",
            "text/plain": [
              "<Figure size 432x288 with 1 Axes>"
            ]
          },
          "metadata": {
            "needs_background": "light"
          }
        }
      ]
    },
    {
      "cell_type": "markdown",
      "metadata": {
        "id": "U3I_BkBzFaca"
      },
      "source": [
        "### Question 1:\n",
        "####  What happens if we change the activation function of the first hidden  layer to `'linear'`? "
      ]
    },
    {
      "cell_type": "code",
      "metadata": {
        "id": "C34LLyOvFacb"
      },
      "source": [
        "model = keras.Sequential()\n",
        "## The first layer need to have the input_shape\n",
        "## change the activation function\n",
        "model.add(layers.Dense(3, input_shape=(2,), activation=...))\n",
        "# output layer\n",
        "model.add(layers.Dense(1, activation='sigmoid'))"
      ],
      "execution_count": null,
      "outputs": []
    },
    {
      "cell_type": "code",
      "metadata": {
        "id": "MaF6BwJQFacb"
      },
      "source": [
        "## compiling and training\n",
        "model.compile(\n",
        "    optimizer='adam',\n",
        "    loss='binary_crossentropy',\n",
        "    metrics=['accuracy']\n",
        ")\n",
        "model.fit(X_train, y_train, epochs=25, validation_split=0.2, batch_size=32)"
      ],
      "execution_count": null,
      "outputs": []
    },
    {
      "cell_type": "code",
      "metadata": {
        "id": "eogrOPtyFacb"
      },
      "source": [
        "results = model.evaluate(X_test, y_test, verbose=0)\n",
        "print('Test Loss: {}'.format(results[0]))\n",
        "print('Test Accuracy: {}'.format(results[1]))\n",
        "plot_decision_boundary(lambda x: (\n",
        "    model.predict(x) > 0.5).astype(\"int32\"), X_test, y_test)\n",
        "plt.title(\"1 Hidden layer NN, linear activation\");"
      ],
      "execution_count": null,
      "outputs": []
    },
    {
      "cell_type": "markdown",
      "metadata": {
        "id": "dYXaQAGJFacc"
      },
      "source": [
        "### Question 2:\n",
        "####  What happens if we add more neurons to the first hidden layer ? "
      ]
    },
    {
      "cell_type": "code",
      "metadata": {
        "id": "p-tpXThEFacc"
      },
      "source": [
        "draw_neural_net(.1, .9, .1, .9, [2, 5, 1])"
      ],
      "execution_count": null,
      "outputs": []
    },
    {
      "cell_type": "code",
      "metadata": {
        "id": "3BQej2eLFacc"
      },
      "source": [
        "model = keras.Sequential()\n",
        "\n",
        "## The first layer need to have the input_shape\n",
        "## set the number of neurons\n",
        "model.add(layers.Dense(..., input_shape=(2,), activation='sigmoid'))\n",
        "\n",
        "# output layer\n",
        "model.add(layers.Dense(1, activation='sigmoid'))"
      ],
      "execution_count": null,
      "outputs": []
    },
    {
      "cell_type": "code",
      "metadata": {
        "id": "YZTXyCtbFacc"
      },
      "source": [
        "## compiling and training\n",
        "model.compile(\n",
        "    optimizer='adam',\n",
        "    loss='binary_crossentropy',\n",
        "    metrics=['accuracy']\n",
        ")\n",
        "model.fit(X_train, y_train, epochs=25, validation_split=0.2, batch_size=32)"
      ],
      "execution_count": null,
      "outputs": []
    },
    {
      "cell_type": "code",
      "metadata": {
        "id": "6Nb8VqcMFacc"
      },
      "source": [
        "results = model.evaluate(X_test, y_test, verbose=0)\n",
        "print('Test Loss: {}'.format(results[0]))\n",
        "print('Test Accuracy: {}'.format(results[1]))\n",
        "plot_decision_boundary(lambda x: (\n",
        "    model.predict(x) > 0.5).astype(\"int32\"), X_test, y_test)\n",
        "plt.title(\"1 Hidden layer NN, linear activation\");"
      ],
      "execution_count": null,
      "outputs": []
    },
    {
      "cell_type": "markdown",
      "metadata": {
        "id": "kG8Q0O1MFacd"
      },
      "source": [
        "### Question 3:\n",
        "####  What happens if we add one more hidden layer ? "
      ]
    },
    {
      "cell_type": "code",
      "metadata": {
        "id": "zuNfICE0Facd"
      },
      "source": [
        "draw_neural_net(.1, .9, .1, .9, [2, 3, 3, 1])"
      ],
      "execution_count": null,
      "outputs": []
    },
    {
      "cell_type": "code",
      "metadata": {
        "id": "lV_lxWoSFacd"
      },
      "source": [
        "model = keras.Sequential()\n",
        "# First hidden layer (need to innclude input_shape)\n",
        "## Set the number of neurons\n",
        "model.add(layers.Dense(..., input_shape=(2,), activation='sigmoid'))\n",
        "\n",
        "# second hidden layer\n",
        "## Complete the code\n",
        "model.add(...\n",
        "\n",
        "# output layer\n",
        "model.add(layers.Dense(1, activation='sigmoid'))"
      ],
      "execution_count": null,
      "outputs": []
    },
    {
      "cell_type": "code",
      "metadata": {
        "id": "gCVXxX6kFacd"
      },
      "source": [
        "## compiling and training\n",
        "model.compile(\n",
        "    optimizer='adam',\n",
        "    loss='binary_crossentropy',\n",
        "    metrics=['accuracy']\n",
        ")\n",
        "model.fit(X_train, y_train, epochs=25, validation_split=0.2, batch_size=32)"
      ],
      "execution_count": null,
      "outputs": []
    },
    {
      "cell_type": "code",
      "metadata": {
        "id": "T4CgAG9FFacd"
      },
      "source": [
        "results = model.evaluate(X_test, y_test, verbose=0)\n",
        "print('Test Loss: {}'.format(results[0]))\n",
        "print('Test Accuracy: {}'.format(results[1]))\n",
        "plot_decision_boundary(lambda x: (\n",
        "    model.predict(x) > 0.5).astype(\"int32\"), X_test, y_test)\n",
        "plt.title(\"1 Hidden layer NN, linear activation\");"
      ],
      "execution_count": null,
      "outputs": []
    },
    {
      "cell_type": "markdown",
      "metadata": {
        "id": "_53qUZbNFace"
      },
      "source": [
        "####  Use  the [hyperbolic tangent](https://mathworld.wolfram.com/HyperbolicTangent.html) activation `'tanh'` with the first simple model and compare the results with the sigmoid activation"
      ]
    },
    {
      "cell_type": "code",
      "metadata": {
        "id": "s0LrWISlFace"
      },
      "source": [
        "model = keras.Sequential()\n",
        "## The first layer need to have the input_shape\n",
        "## change the activation function\n",
        "model.add(layers.Dense(3, input_shape=(2,), activation=...))\n",
        "# output layer\n",
        "model.add(layers.Dense(1, activation='sigmoid'))"
      ],
      "execution_count": null,
      "outputs": []
    },
    {
      "cell_type": "code",
      "metadata": {
        "id": "zJtbNF9fFace"
      },
      "source": [
        "## compiling and training\n",
        "model.compile(\n",
        "    optimizer='adam',\n",
        "    loss='binary_crossentropy',\n",
        "    metrics=['accuracy']\n",
        ")\n",
        "model.fit(X_train, y_train, epochs=25, validation_split=0.2, batch_size=32)"
      ],
      "execution_count": null,
      "outputs": []
    },
    {
      "cell_type": "code",
      "metadata": {
        "id": "NMldvTugFace"
      },
      "source": [
        "results = model.evaluate(X_test, y_test, verbose=0)\n",
        "print('Test Loss: {}'.format(results[0]))\n",
        "print('Test Accuracy: {}'.format(results[1]))\n",
        "plot_decision_boundary(lambda x: (\n",
        "    model.predict(x) > 0.5).astype(\"int32\"), X_test, y_test)\n",
        "plt.title(\"1 Hidden layer NN, linear activation\");"
      ],
      "execution_count": null,
      "outputs": []
    },
    {
      "cell_type": "markdown",
      "metadata": {
        "id": "jnp2Qqh6Face"
      },
      "source": [
        "## Practice I\n",
        "\n",
        "Repeat the process with a different dataset."
      ]
    },
    {
      "cell_type": "code",
      "metadata": {
        "id": "q5ClMSIEFace"
      },
      "source": [
        "N = 5000\n",
        "X, y = sklearn.datasets.make_moons(n_samples=N, noise=.18)"
      ],
      "execution_count": null,
      "outputs": []
    },
    {
      "cell_type": "code",
      "metadata": {
        "id": "36G3LG9gFacf"
      },
      "source": [
        "# Visualize the data:\n",
        "plt.scatter(X[:,0], X[:,1], c=y.ravel(), s=40, cmap=plt.cm.Spectral);"
      ],
      "execution_count": null,
      "outputs": []
    },
    {
      "cell_type": "code",
      "metadata": {
        "id": "Tfy00ajbFacf"
      },
      "source": [
        "# train test split\n",
        "from sklearn.model_selection import train_test_split\n",
        "\n",
        "(X_train, X_test, y_train, y_test) = train_test_split(\n",
        "    X,\n",
        "    y,\n",
        "    test_size=0.25,\n",
        ")\n",
        "print('X shape:{0}, y shape:{1}'.format(X.shape, y.shape))\n",
        "print('X_train shape:{0}, y_train shape:{1}'.format(X_train.shape,\n",
        "                                                    y_train.shape))\n",
        "print('X_test shape:{0}, y_test shape:{1}'.format(X_test.shape, y_test.shape))"
      ],
      "execution_count": null,
      "outputs": []
    },
    {
      "cell_type": "markdown",
      "metadata": {
        "id": "jAAKA4PLFacf"
      },
      "source": [
        "### Define your model"
      ]
    },
    {
      "cell_type": "code",
      "metadata": {
        "id": "X82atd5OFacf"
      },
      "source": [
        "model = keras.Sequential()\n",
        "## The first layer need to have the input_shape\n",
        "model.add(layers...(..., input_shape=(...,), activation=...))\n",
        "\n",
        "## Second Layer, don't use input_shape\n",
        "model...(...)\n",
        "\n",
        "# output layer\n",
        "model.add(layers.Dense(..., activation=...))"
      ],
      "execution_count": null,
      "outputs": []
    },
    {
      "cell_type": "code",
      "metadata": {
        "id": "ypSFORl6Facg"
      },
      "source": [
        "## compiling and training\n",
        "model.compile(\n",
        "    optimizer='adam',\n",
        "    loss='binary_crossentropy',\n",
        "    metrics=['accuracy']\n",
        ")\n",
        "model.fit(X_train, y_train, epochs=35, validation_split=0.2, batch_size=64)"
      ],
      "execution_count": null,
      "outputs": []
    },
    {
      "cell_type": "code",
      "metadata": {
        "scrolled": true,
        "id": "TDafW2dgFacg"
      },
      "source": [
        "results = model.evaluate(X_test, y_test, verbose=0)\n",
        "print('Test Loss: {}'.format(results[0]))\n",
        "print('Test Accuracy: {}'.format(results[1]))\n",
        "plot_decision_boundary(lambda x: (\n",
        "    model.predict(x) > 0.5).astype(\"int32\"), X_test, y_test)"
      ],
      "execution_count": null,
      "outputs": []
    },
    {
      "cell_type": "markdown",
      "metadata": {
        "id": "FmVF8r_WFacg"
      },
      "source": [
        "## Functional API\n",
        "\n",
        "The Keras Functional API allows defining the topology of the models as a [acyclic directed graph](https://en.wikipedia.org/wiki/Directed_acyclic_graph) of layers. Next we will build the same model as in the previous section but using the Keras Functional API.\n",
        "\n",
        "You need to start with an input data entry:\n",
        "```python    \n",
        "    inputs = keras.Input(shape=(8,))\n",
        "```\n",
        "    \n",
        "We define the layers that we will include in the network and the relationships between them. It is important to note that each line details the type of layer and its properties (number of neurons, activation function, name ...) and just at the end, in parentheses, the name of the variable in which we have saved the layer from which its output will connect to the input of the layer we are declaring.\n",
        "```python\n",
        "layer_1 = layers.Dense(4, activation='sigmoid',\n",
        "                       name='layer_1')(inputs)\n",
        "layer_2 = layers.Dense(4, activation='sigmoid',\n",
        "                       name='layer_2')(layer_1)\n",
        "```\n",
        "\n",
        "The \"layer call\" `Dense()(inputs)` action is like drawing an arrow from \"inputs\" to this layer you created. You're \"passing\" the inputs to the dense layer, and you get `layer_1` as the output.\n",
        "\n",
        "  \n",
        "\n",
        "Finally, we define the network outputs:\n",
        "```python\n",
        "outputs = layers.Dense(1, name='output_layer')(layer_2)\n",
        "```\n",
        "\n",
        "We create the model specifying the inputs and outputs:\n",
        "```python\n",
        "model = keras.Model(inputs=inputs, outputs=outputs)\n",
        "```"
      ]
    },
    {
      "cell_type": "code",
      "metadata": {
        "id": "7bLb9HG4Facg"
      },
      "source": [
        "draw_neural_net(.1, .9, .1, .9, [8, 4, 4, 1])"
      ],
      "execution_count": null,
      "outputs": []
    },
    {
      "cell_type": "code",
      "metadata": {
        "id": "KrowwddyFach"
      },
      "source": [
        "inputs = keras.Input(shape=(8, ), name='input_layer')\n",
        "l_1 = layers.Dense(4, activation='relu', name='layer_1')(inputs)\n",
        "l_2 = layers.Dense(4, activation='relu', name='layer_2')(l_1)\n",
        "outputs = layers.Dense(1, name='output_layer')(l_2)\n",
        "\n",
        "model = keras.Model(inputs=inputs, outputs=outputs, name='example_model')\n",
        "\n",
        "model.summary()"
      ],
      "execution_count": null,
      "outputs": []
    },
    {
      "cell_type": "code",
      "metadata": {
        "id": "DRbQU6mXFach"
      },
      "source": [
        "plot_model(model, show_shapes=True)"
      ],
      "execution_count": null,
      "outputs": []
    },
    {
      "cell_type": "markdown",
      "metadata": {
        "id": "J9PVBVe8Fach"
      },
      "source": [
        "## Practice II\n",
        "\n",
        "Repeat the process with a different dataset and the **Functional API**"
      ]
    },
    {
      "cell_type": "code",
      "metadata": {
        "id": "YSSgM6l1Fach"
      },
      "source": [
        "N = 5000\n",
        "X, y = sklearn.datasets.make_circles(n_samples=N, factor=.65, noise=.065) # sklearn.datasets.make_moons(n_samples=N, noise=.15)"
      ],
      "execution_count": null,
      "outputs": []
    },
    {
      "cell_type": "code",
      "metadata": {
        "id": "pSrgfmAmFach"
      },
      "source": [
        "# Visualize the data:\n",
        "plt.scatter(X[:,0], X[:,1], c=y.ravel(), s=40, cmap=plt.cm.Spectral);"
      ],
      "execution_count": null,
      "outputs": []
    },
    {
      "cell_type": "code",
      "metadata": {
        "id": "STJBa6SYFach"
      },
      "source": [
        "# train test split\n",
        "from sklearn.model_selection import train_test_split\n",
        "\n",
        "(X_train, X_test, y_train, y_test) = train_test_split(\n",
        "    X,\n",
        "    y,\n",
        "    test_size=0.25,\n",
        ")\n",
        "print('X shape:{0}, y shape:{1}'.format(X.shape, y.shape))\n",
        "print('X_train shape:{0}, y_train shape:{1}'.format(X_train.shape,\n",
        "                                                    y_train.shape))\n",
        "print('X_test shape:{0}, y_test shape:{1}'.format(X_test.shape, y_test.shape))"
      ],
      "execution_count": null,
      "outputs": []
    },
    {
      "cell_type": "markdown",
      "metadata": {
        "id": "xSaXJw1XFaci"
      },
      "source": [
        "### Define your model"
      ]
    },
    {
      "cell_type": "code",
      "metadata": {
        "id": "KwDWArKJFaci"
      },
      "source": [
        "inputs = keras.Input(shape=(2, ), name='input_layer')\n",
        "## First hidden layer\n",
        "l_1 = layers.Dense(...)(inputs)\n",
        "...\n",
        "\n",
        "## output layer\n",
        "outputs = layers.Dense(...\n",
        "                       \n",
        "\n",
        "model = keras.Model(inputs=inputs,..."
      ],
      "execution_count": null,
      "outputs": []
    },
    {
      "cell_type": "code",
      "metadata": {
        "id": "_ca4GJsuFaci"
      },
      "source": [
        "## compiling and training\n",
        "model.compile(\n",
        "    optimizer='adam',\n",
        "    loss='binary_crossentropy',\n",
        "    metrics=['accuracy']\n",
        ")\n",
        "model.fit(X_train, y_train, epochs=35, validation_split=0.2, batch_size=64)"
      ],
      "execution_count": null,
      "outputs": []
    },
    {
      "cell_type": "code",
      "metadata": {
        "id": "taj8nn--Faci"
      },
      "source": [
        "results = model.evaluate(X_test, y_test, verbose=0)\n",
        "print('Test Loss: {}'.format(results[0]))\n",
        "print('Test Accuracy: {}'.format(results[1]))\n",
        "plot_decision_boundary(lambda x: (\n",
        "    model.predict(x) > 0.5).astype(\"int32\"), X_test, y_test)"
      ],
      "execution_count": null,
      "outputs": []
    }
  ]
}